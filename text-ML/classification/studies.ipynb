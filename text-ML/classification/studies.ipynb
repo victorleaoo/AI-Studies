{
 "cells": [
  {
   "cell_type": "markdown",
   "id": "7c8cfbe4",
   "metadata": {},
   "source": [
    "# Estudo Classificação de Texto"
   ]
  },
  {
   "cell_type": "markdown",
   "id": "4095ca5a",
   "metadata": {},
   "source": [
    "## Separação dos Datasets\n",
    "O dataset é separado em treino (treinar o modelo), validação (para analisar métricas e melhorar o que for necessário no modelo, uma visão mais geral) e teste (ver se funciona em si)."
   ]
  },
  {
   "cell_type": "markdown",
   "id": "cd69a57f",
   "metadata": {},
   "source": [
    "## Número de classes\n",
    "1. Binominal: 2 classes\n",
    "2. Multinominal: 3+ classes\n",
    "3. Multi-label: Pode encaixar um texto em mais de uma classe"
   ]
  },
  {
   "cell_type": "markdown",
   "id": "31b2c74f",
   "metadata": {},
   "source": [
    "## Passo a Passo de Classificação\n",
    "1. Prepare train and test datasets\n",
    "2. Text normalization\n",
    "3. Feature extraction\n",
    "4. Model training\n",
    "5. Model prediction and evaluation\n",
    "6. Model deployment"
   ]
  },
  {
   "cell_type": "markdown",
   "id": "31ee5788",
   "metadata": {},
   "source": [
    "## Features\n",
    "São atributos para cada dado. Normalmente, é necessário serem passados para binários ou vetores numéricos, já que os modelos trabalham com matemática para encontrar padrões. Modelos:\n",
    "1. **Bag of Words/Count Vectorizer:** separa as palavras com pesos de acordo com sua frequência no documento (features = CountVectorizer(min_df=1).fit_transform(corpus)). Pode ter o problema de palavras muito frequentes \"diminuirem\" a importância de outras.\n",
    "2. **TF-IDF:** analisa a frequência e a frequência inversa das palavras (features = TfidfVectorizer(mind_df=1, smooth_idf=True).fit_transform(corpus))."
   ]
  },
  {
   "cell_type": "markdown",
   "id": "c9b9a88e",
   "metadata": {},
   "source": [
    "## Modelos\n",
    "1. **Multinominal Naive Bayes:** trabalha com a probabilidade de Y para um conjunto de features X independentes.\n",
    "2. **Support Vector Machines (SVM):** trabalha, basicamente, com pontos em um plano e onde pontos novos devem entrar no plano."
   ]
  },
  {
   "cell_type": "markdown",
   "id": "60d9be86",
   "metadata": {},
   "source": [
    "## Evaluation\n",
    "**True Positive:** Positivo predito como Positivo.<br />\n",
    "**True Negative:** Negativo predito como Negativo.<br />\n",
    "**False Positive:** Negativo predito como Positivo.<br />\n",
    "**False Negative:** Positivo predito como Negativo.\n",
    "1. Acurácia: previsão_correta/total\n",
    "2. Precisão: true_positivo/total_positivo\n",
    "3. Recall (sensibilidade): true_positivo/true_positivo+false_negative\n",
    "4. F1 Score: média harmônica/precisão+recall (outro tipo de acurácia)\n",
    "\n",
    "Para obter um desses, só devemos colocar: metrics.param_score(true, predict, average='weighted')"
   ]
  },
  {
   "cell_type": "markdown",
   "id": "030d8df0",
   "metadata": {},
   "source": [
    "## Matrix Confusion\n",
    "Maneira de ver features x prediction, para saber o que foi predito corretamente e enteder correlações.<br />\n",
    "Faz um DataFrame a partir de: metrics.confusion_matrix(labels, prediction)"
   ]
  }
 ],
 "metadata": {
  "kernelspec": {
   "display_name": "Python 3 (ipykernel)",
   "language": "python",
   "name": "python3"
  },
  "language_info": {
   "codemirror_mode": {
    "name": "ipython",
    "version": 3
   },
   "file_extension": ".py",
   "mimetype": "text/x-python",
   "name": "python",
   "nbconvert_exporter": "python",
   "pygments_lexer": "ipython3",
   "version": "3.8.8"
  }
 },
 "nbformat": 4,
 "nbformat_minor": 5
}
